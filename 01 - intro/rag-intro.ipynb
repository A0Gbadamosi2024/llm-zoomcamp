{
 "cells": [
  {
   "cell_type": "markdown",
   "id": "4c1109f7-9697-4fa9-8c0f-6e41e4fd1079",
   "metadata": {},
   "source": [
    "## A. IMPLEMENTING THE MINSEARCH ENGINE"
   ]
  },
  {
   "cell_type": "code",
   "execution_count": 1,
   "id": "69ba5eeb-b4c5-42e0-ac94-6a1b42204ba0",
   "metadata": {},
   "outputs": [],
   "source": [
    "#!wget https://raw.githubusercontent.com/alexeygrigorev/minsearch/main/minsearch.py\n"
   ]
  },
  {
   "cell_type": "code",
   "execution_count": 2,
   "id": "34cea75c-f2cc-4a8f-9f62-217bdca10cfa",
   "metadata": {},
   "outputs": [],
   "source": [
    "# minsearch repository https://github.com/alexeygrigorev/minsearch/tree/main"
   ]
  },
  {
   "cell_type": "code",
   "execution_count": 3,
   "id": "3b4db5ce-577f-44a7-9927-c017f0b349c1",
   "metadata": {},
   "outputs": [],
   "source": [
    "#implementing the search engine \n",
    "import minsearch"
   ]
  },
  {
   "cell_type": "code",
   "execution_count": 4,
   "id": "f70abbac-e475-4725-9f36-0a2e97de2941",
   "metadata": {},
   "outputs": [],
   "source": [
    "# Getting the indexed FAQ documents\n",
    "\n",
    "import json"
   ]
  },
  {
   "cell_type": "code",
   "execution_count": 5,
   "id": "7121dc05-e23a-488f-910c-35647267af48",
   "metadata": {},
   "outputs": [],
   "source": [
    "with open('documents.json', 'rt') as f_in:\n",
    "    docs_raw = json.load(f_in)"
   ]
  },
  {
   "cell_type": "code",
   "execution_count": 6,
   "id": "3fcc063a-7afa-4853-8090-5154c4d79bfe",
   "metadata": {},
   "outputs": [],
   "source": [
    "# restructuring the json to contain document records for each course\n",
    "documents = []\n",
    "\n",
    "for course_dict in docs_raw:\n",
    "    for doc in course_dict['documents']:\n",
    "        doc['course'] = course_dict['course']\n",
    "        documents.append(doc)"
   ]
  },
  {
   "cell_type": "code",
   "execution_count": 7,
   "id": "c5551199-071c-438e-854d-16c6f56149d1",
   "metadata": {},
   "outputs": [],
   "source": [
    "#indexing the document so we can search through it \n",
    "\n",
    "index = minsearch.Index(\n",
    "    text_fields = ['question','text','section'],\n",
    "    keyword_fields=['course']\n",
    ")"
   ]
  },
  {
   "cell_type": "code",
   "execution_count": 8,
   "id": "44fd413a-277b-486c-8336-7df1a7c1e8d4",
   "metadata": {},
   "outputs": [
    {
     "data": {
      "text/plain": [
       "<minsearch.Index at 0x73665994b610>"
      ]
     },
     "execution_count": 8,
     "metadata": {},
     "output_type": "execute_result"
    }
   ],
   "source": [
    "index.fit(documents)"
   ]
  },
  {
   "cell_type": "code",
   "execution_count": 9,
   "id": "463defd8-eddf-4937-8a80-9933206dc9e0",
   "metadata": {},
   "outputs": [],
   "source": [
    "# texting the index \n",
    "boost = {'question': 3.0, 'section':0.5} #this means the question field is 3 times more important than the text field\n",
    "\n",
    "\n",
    "results = index.search(\n",
    "    query='the courese has already started, can I still enroll?',\n",
    "    boost_dict =boost,\n",
    "    filter_dict = {'course':'data-engineering-zoomcamp'},\n",
    "    num_results=5\n",
    ")"
   ]
  },
  {
   "cell_type": "code",
   "execution_count": 10,
   "id": "77921b93-6f7b-48d1-b3d3-c0c9a2de7c70",
   "metadata": {},
   "outputs": [
    {
     "data": {
      "text/plain": [
       "[{'text': \"Yes, even if you don't register, you're still eligible to submit the homeworks.\\nBe aware, however, that there will be deadlines for turning in the final projects. So don't leave everything for the last minute.\",\n",
       "  'section': 'General course-related questions',\n",
       "  'question': 'Course - Can I still join the course after the start date?',\n",
       "  'course': 'data-engineering-zoomcamp'},\n",
       " {'text': 'Yes, for simplicity (of troubleshooting against the recorded videos) and stability. [source]\\nBut Python 3.10 and 3.11 should work fine.',\n",
       "  'section': 'General course-related questions',\n",
       "  'question': 'Environment - Is Python 3.9 still the recommended version to use in 2024?',\n",
       "  'course': 'data-engineering-zoomcamp'},\n",
       " {'text': 'Star the repo! Share it with friends if you find it useful ❣️\\nCreate a PR if you see you can improve the text or the structure of the repository.',\n",
       "  'section': 'General course-related questions',\n",
       "  'question': 'How can we contribute to the course?',\n",
       "  'course': 'data-engineering-zoomcamp'},\n",
       " {'text': 'We will use the same data, as the project will essentially remain the same as last year’s. The data is available here',\n",
       "  'section': 'General course-related questions',\n",
       "  'question': 'Are we still using the NYC Trip data for January 2021? Or are we using the 2022 data?',\n",
       "  'course': 'data-engineering-zoomcamp'},\n",
       " {'text': 'Yes, the slack channel remains open and you can ask questions there. But always sDocker containers exit code w search the channel first and second, check the FAQ (this document), most likely all your questions are already answered here.\\nYou can also tag the bot @ZoomcampQABot to help you conduct the search, but don’t rely on its answers 100%, it is pretty good though.',\n",
       "  'section': 'General course-related questions',\n",
       "  'question': 'Course - Can I get support if I take the course in the self-paced mode?',\n",
       "  'course': 'data-engineering-zoomcamp'}]"
      ]
     },
     "execution_count": 10,
     "metadata": {},
     "output_type": "execute_result"
    }
   ],
   "source": [
    "results"
   ]
  },
  {
   "cell_type": "markdown",
   "id": "77ec2e35-a6f6-4304-81b1-cc04899db21b",
   "metadata": {},
   "source": [
    "## B. PASSING THE CONTEXT TO AN LLM "
   ]
  },
  {
   "cell_type": "code",
   "execution_count": 11,
   "id": "d70f6b95-f8bf-4223-8dc8-b0a631daa431",
   "metadata": {},
   "outputs": [],
   "source": [
    "import os \n",
    "#os.environ['OPENAI_API_KEY']"
   ]
  },
  {
   "cell_type": "code",
   "execution_count": 12,
   "id": "e90129dd-3545-4498-884b-33b443fae738",
   "metadata": {},
   "outputs": [],
   "source": [
    "from openai import OpenAI"
   ]
  },
  {
   "cell_type": "code",
   "execution_count": 14,
   "id": "63b4a04a-c445-4fa9-894e-512d276337ca",
   "metadata": {},
   "outputs": [],
   "source": [
    "client = OpenAI(api_key = os.environ['OPENAI_API_KEY'])\n",
    "response = client.chat.completions.create(\n",
    "    model='gpt-4o-mini',\n",
    "    messages=[{\"role\":'user', \"content\":'the courese has already started, can I still enroll?'}])"
   ]
  },
  {
   "cell_type": "code",
   "execution_count": 15,
   "id": "f097db7b-248c-4c24-9a17-de4920b27ac0",
   "metadata": {},
   "outputs": [
    {
     "data": {
      "text/plain": [
       "\"Whether you can still enroll in a course that has already started depends on the institution or organization offering the course. Many institutions have specific policies regarding enrollment deadlines, while some may allow late enrollment under certain circumstances. \\n\\nTo get accurate information, it's best to:\\n\\n1. Check the course's official website or syllabus for enrollment details.\\n2. Contact the course instructor or administrative office directly to inquire about late enrollment options.\\n3. Look for any add/drop deadlines specific to the semester or term you are in.\\n\\nThey will provide you with the most relevant information regarding your situation.\""
      ]
     },
     "execution_count": 15,
     "metadata": {},
     "output_type": "execute_result"
    }
   ],
   "source": [
    "response.choices[0].message.content"
   ]
  },
  {
   "cell_type": "code",
   "execution_count": 16,
   "id": "6c5eff08-cd44-484e-a972-0e641d2e404d",
   "metadata": {},
   "outputs": [],
   "source": [
    "#Setting the context\n",
    "\n",
    "prompt_template = \"\"\"\n",
    "You are course teaching assistant. Answer the QUESTION based on context from the FAQ databse.\n",
    "Use only the facts from the CONTEXT when answering the QUESTION \n",
    "If the CONTEXT doesn't contain the answer , output NONE\n",
    "\n",
    "\n",
    "QUESTION: {question}\n",
    "\n",
    "CONTEXT: {context}\n",
    "\n",
    "\"\"\""
   ]
  },
  {
   "cell_type": "code",
   "execution_count": 17,
   "id": "83fde5bd-fe02-4c10-888b-c042614a29cd",
   "metadata": {},
   "outputs": [],
   "source": [
    "context = \"\"\n",
    "\n",
    "for doc in results:\n",
    "    context = context + f\"section: {doc['section']}\\nquestion: {doc['question']}\\nanswer: {doc['text']}\\n\\n\""
   ]
  },
  {
   "cell_type": "code",
   "execution_count": 18,
   "id": "a8a757bb-1a21-4b39-97f0-9c54fb077790",
   "metadata": {},
   "outputs": [
    {
     "name": "stdout",
     "output_type": "stream",
     "text": [
      "section: General course-related questions\n",
      "question: Course - Can I still join the course after the start date?\n",
      "answer: Yes, even if you don't register, you're still eligible to submit the homeworks.\n",
      "Be aware, however, that there will be deadlines for turning in the final projects. So don't leave everything for the last minute.\n",
      "\n",
      "section: General course-related questions\n",
      "question: Environment - Is Python 3.9 still the recommended version to use in 2024?\n",
      "answer: Yes, for simplicity (of troubleshooting against the recorded videos) and stability. [source]\n",
      "But Python 3.10 and 3.11 should work fine.\n",
      "\n",
      "section: General course-related questions\n",
      "question: How can we contribute to the course?\n",
      "answer: Star the repo! Share it with friends if you find it useful ❣️\n",
      "Create a PR if you see you can improve the text or the structure of the repository.\n",
      "\n",
      "section: General course-related questions\n",
      "question: Are we still using the NYC Trip data for January 2021? Or are we using the 2022 data?\n",
      "answer: We will use the same data, as the project will essentially remain the same as last year’s. The data is available here\n",
      "\n",
      "section: General course-related questions\n",
      "question: Course - Can I get support if I take the course in the self-paced mode?\n",
      "answer: Yes, the slack channel remains open and you can ask questions there. But always sDocker containers exit code w search the channel first and second, check the FAQ (this document), most likely all your questions are already answered here.\n",
      "You can also tag the bot @ZoomcampQABot to help you conduct the search, but don’t rely on its answers 100%, it is pretty good though.\n",
      "\n",
      "\n"
     ]
    }
   ],
   "source": [
    "print(context)"
   ]
  },
  {
   "cell_type": "code",
   "execution_count": 19,
   "id": "f9509772-835f-4360-9d6f-eb174114c73d",
   "metadata": {},
   "outputs": [
    {
     "data": {
      "text/plain": [
       "\"Whether you can still enroll in a course that has already started depends on the institution or organization offering the course. Many institutions have specific policies regarding enrollment deadlines, while some may allow late enrollment under certain circumstances. \\n\\nTo get accurate information, it's best to:\\n\\n1. Check the course's official website or syllabus for enrollment details.\\n2. Contact the course instructor or administrative office directly to inquire about late enrollment options.\\n3. Look for any add/drop deadlines specific to the semester or term you are in.\\n\\nThey will provide you with the most relevant information regarding your situation.\""
      ]
     },
     "execution_count": 19,
     "metadata": {},
     "output_type": "execute_result"
    }
   ],
   "source": [
    "response.choices[0].message.content"
   ]
  },
  {
   "cell_type": "markdown",
   "id": "72c23a63-c14c-4632-a4dc-76e5a0f3a079",
   "metadata": {},
   "source": [
    "### Modularizing the code "
   ]
  },
  {
   "cell_type": "code",
   "execution_count": 20,
   "id": "cac464e6-9a60-446a-b4b4-1d36661de29d",
   "metadata": {},
   "outputs": [],
   "source": [
    "def search(query):\n",
    "\n",
    "        # texting the index \n",
    "    boost = {'question': 3.0, 'section':0.5} #this means the question field is 3 times more important than the text field\n",
    "    \n",
    "    \n",
    "    results = index.search(\n",
    "        query=query,\n",
    "        boost_dict =boost,\n",
    "        filter_dict = {'course':'data-engineering-zoomcamp'},\n",
    "        num_results=5)\n",
    "\n",
    "    return results\n",
    "    "
   ]
  },
  {
   "cell_type": "code",
   "execution_count": 30,
   "id": "74e26a4c-e1b6-4efa-98c6-ee4779b7e4ac",
   "metadata": {},
   "outputs": [],
   "source": [
    "def build_prompt(query, search_results):\n",
    "    prompt_template = \"\"\"\n",
    "    You are course teaching assistant. Answer the QUESTION based on context from the FAQ databse.\n",
    "    Use only the facts from the CONTEXT when answering the QUESTION \n",
    "    If the CONTEXT doesn't contain the answer , output NONE\n",
    "    \n",
    "    \n",
    "    QUESTION: {question}\n",
    "    \n",
    "    CONTEXT: {context}\n",
    "    \n",
    "    \"\"\".strip()\n",
    "\n",
    "    context = \"\"\n",
    "\n",
    "    for doc in search_results:\n",
    "        context = context + f\"section: {doc['section']}\\nquestion: {doc['question']}\\nanswer: {doc['text']}\\n\\n\"\n",
    "\n",
    "\n",
    "    prompt = prompt_template.format(question=query, context=context).strip()\n",
    "\n",
    "    return prompt\n",
    "\n"
   ]
  },
  {
   "cell_type": "code",
   "execution_count": 34,
   "id": "b62e6007-7ad2-40ba-904b-42ac1126553c",
   "metadata": {},
   "outputs": [],
   "source": [
    "# modularizing the logic for invoking the gpt \n",
    "\n",
    "def llm(prompt):\n",
    "    client = OpenAI(api_key = os.environ['OPENAI_API_KEY'])\n",
    "    response = client.chat.completions.create(\n",
    "    model='gpt-4o-mini',\n",
    "    messages=[{\"role\":'user', \"content\":prompt}])\n",
    "\n",
    "    return response.choices[0].message.content"
   ]
  },
  {
   "cell_type": "code",
   "execution_count": 42,
   "id": "05af3c76-aa0d-45df-b8d3-2722ad30cae5",
   "metadata": {},
   "outputs": [],
   "source": [
    "# modularized calls \n",
    "query = \"how do I run kafka?\"\n",
    "\n",
    "def rag(query):\n",
    " \n",
    "    search_results = search(query)\n",
    "    \n",
    "    prompt = build_prompt(query, search_results)\n",
    "    \n",
    "    answer = llm(prompt)\n",
    "\n",
    "    return answer"
   ]
  },
  {
   "cell_type": "code",
   "execution_count": 43,
   "id": "6d168898-eac5-4720-ba05-8826aa76ea61",
   "metadata": {},
   "outputs": [
    {
     "data": {
      "text/plain": [
       "'Yes, even if the course has already started, you can still enroll and are eligible to submit the homework. However, keep in mind that there will be deadlines for turning in the final projects.'"
      ]
     },
     "execution_count": 43,
     "metadata": {},
     "output_type": "execute_result"
    }
   ],
   "source": [
    "rag('the course has already started , can I still enroll ?')"
   ]
  },
  {
   "cell_type": "code",
   "execution_count": null,
   "id": "a687e20d-4c21-41be-8a7f-ffeb53a46ab0",
   "metadata": {},
   "outputs": [],
   "source": []
  }
 ],
 "metadata": {
  "kernelspec": {
   "display_name": "Python 3 (ipykernel)",
   "language": "python",
   "name": "python3"
  },
  "language_info": {
   "codemirror_mode": {
    "name": "ipython",
    "version": 3
   },
   "file_extension": ".py",
   "mimetype": "text/x-python",
   "name": "python",
   "nbconvert_exporter": "python",
   "pygments_lexer": "ipython3",
   "version": "3.11.7"
  }
 },
 "nbformat": 4,
 "nbformat_minor": 5
}
