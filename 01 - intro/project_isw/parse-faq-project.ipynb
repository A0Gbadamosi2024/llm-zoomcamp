{
 "cells": [
  {
   "cell_type": "code",
   "execution_count": 1,
   "id": "b1f97cc1-4d8d-4d78-819b-2f950d9d980c",
   "metadata": {},
   "outputs": [],
   "source": [
    "### Relevant ISW FAQ file id - 1l9o8VeVEAYCSLlVOJ7eM7EZk-EPcGTP8 , ISW FAQ cleaned - 1j8jbcAZVIXvip-esOSSKp050Znsq70zV"
   ]
  },
  {
   "cell_type": "code",
   "execution_count": 8,
   "id": "234c44c7-cfa9-4f20-9e9f-0537b637003e",
   "metadata": {},
   "outputs": [
    {
     "name": "stdout",
     "output_type": "stream",
     "text": [
      "Collecting python-docx\n",
      "  Downloading python_docx-1.1.2-py3-none-any.whl.metadata (2.0 kB)\n",
      "Requirement already satisfied: lxml>=3.1.0 in /usr/local/python/3.12.1/lib/python3.12/site-packages (from python-docx) (5.3.0)\n",
      "Requirement already satisfied: typing-extensions>=4.9.0 in /home/codespace/.local/lib/python3.12/site-packages (from python-docx) (4.12.2)\n",
      "Downloading python_docx-1.1.2-py3-none-any.whl (244 kB)\n",
      "Installing collected packages: python-docx\n",
      "Successfully installed python-docx-1.1.2\n",
      "\u001b[31mERROR: Could not find a version that satisfies the requirement exceptions (from versions: none)\u001b[0m\u001b[31m\n",
      "\u001b[0m\u001b[31mERROR: No matching distribution found for exceptions\u001b[0m\u001b[31m\n",
      "\u001b[0m"
     ]
    }
   ],
   "source": [
    "#!pip install python-docx\n"
   ]
  },
  {
   "cell_type": "code",
   "execution_count": 2,
   "id": "4cd1eaa8-3424-41ad-9cf2-3e8548712865",
   "metadata": {},
   "outputs": [],
   "source": [
    "# pip install python-docx instead of just docx \n",
    "\n",
    "import io\n",
    "\n",
    "import requests\n",
    "import docx"
   ]
  },
  {
   "cell_type": "code",
   "execution_count": 3,
   "id": "8180e7e4-b90d-4900-a59b-d22e5d6537c4",
   "metadata": {},
   "outputs": [],
   "source": [
    "def clean_line(line):\n",
    "    line = line.strip()\n",
    "    line = line.strip('\\uFEFF')\n",
    "    return line\n",
    "\n",
    "def read_faq(file_id):\n",
    "    url = f'https://docs.google.com/document/d/{file_id}/export?format=docx'\n",
    "    \n",
    "    response = requests.get(url)\n",
    "    response.raise_for_status()\n",
    "    \n",
    "    with io.BytesIO(response.content) as f_in:\n",
    "        doc = docx.Document(f_in)\n",
    "\n",
    "    questions = []\n",
    "\n",
    "    question_heading_style = 'heading 4'\n",
    "    #section_heading_style = 'heading 1'\n",
    "    \n",
    "    #heading_id = ''\n",
    "    #section_title = ''\n",
    "    question_title = ''\n",
    "    answer_text_so_far = ''\n",
    "     \n",
    "    for p in doc.paragraphs:\n",
    "        style = p.style.name.lower()\n",
    "        p_text = clean_line(p.text)\n",
    "    \n",
    "        if len(p_text) == 0:\n",
    "            continue\n",
    "    \n",
    "        if style == question_heading_style:\n",
    "            answer_text_so_far = answer_text_so_far.strip()\n",
    "            if answer_text_so_far != '' and question_title != '':\n",
    "                questions.append({\n",
    "                    'text': answer_text_so_far,\n",
    "                    'question': question_title,\n",
    "                })\n",
    "                answer_text_so_far = ''\n",
    "    \n",
    "            question_title = p_text\n",
    "            continue\n",
    "        \n",
    "        answer_text_so_far += '\\n' + p_text\n",
    "    \n",
    "    answer_text_so_far = answer_text_so_far.strip()\n",
    "    if answer_text_so_far != ''  and question_title != '':\n",
    "        questions.append({\n",
    "            'text': answer_text_so_far,\n",
    "            'question': question_title,\n",
    "        })\n",
    "\n",
    "    return questions"
   ]
  },
  {
   "cell_type": "code",
   "execution_count": 7,
   "id": "7d3c2dd7-f64a-4dc7-a4e3-3e8aadfa720f",
   "metadata": {},
   "outputs": [],
   "source": [
    "# faq_documents = {\n",
    "#     'data-engineering-zoomcamp': '19bnYs80DwuUimHM65UV3sylsCn2j1vziPOwzBwQrebw',\n",
    "#     'machine-learning-zoomcamp': '1LpPanc33QJJ6BSsyxVg-pWNMplal84TdZtq10naIhD8',\n",
    "#     'mlops-zoomcamp': '12TlBfhIiKtyBv8RnsoJR6F72bkPDGEvPOItJIxaEzE0',\n",
    "# }\n",
    "\n",
    "faq_documents = {\n",
    "    'isw_faq_cleaned': '1j8jbcAZVIXvip-esOSSKp050Znsq70zV',\n",
    "}"
   ]
  },
  {
   "cell_type": "code",
   "execution_count": 11,
   "id": "f94efe26-05e8-4ae5-a0fa-0a8e16852816",
   "metadata": {},
   "outputs": [
    {
     "name": "stdout",
     "output_type": "stream",
     "text": [
      "isw_faq_cleaned\n"
     ]
    }
   ],
   "source": [
    "documents = []\n",
    "\n",
    "for faq_document, file_id in faq_documents.items():\n",
    "    print(faq_document)\n",
    "    faq_documents = read_faq(file_id)\n",
    "    documents.append({'course': course, 'documents': faq_documents})"
   ]
  },
  {
   "cell_type": "code",
   "execution_count": 12,
   "id": "8f4e3e8a-911d-441c-ac23-47329d3600bb",
   "metadata": {},
   "outputs": [
    {
     "data": {
      "text/plain": [
       "[{'course': 'isw_faq_cleaned',\n",
       "  'documents': [{'text': 'FAQTalk To Us\\nClick on the Buy Airtime Menu\\nSelect “TOP-UP YOUR PHONE” for Self Recharge or “TOP-UP OTHER PHONES” for Third Party Recharge and complete the fields by selecting the desired airtime amount and network.\\nInsert Card Details, i.e. Card number, Expiry Date, CVV, PIN, Safetoken/OTP, or Verve eCash PIN if you are using eCash',\n",
       "    'question': 'How do I buy Airtime via Quickteller'},\n",
       "   {'text': 'Click on the Transfer Money menu\\nComplete the fields by inserting the account number, desired bank name and amount\\nInsert Card Details, i.e. PAN, Expiry Date, CVV, PIN, Safetoken/OTP or Verve eCash PIN if you are transferring from your eCash account.',\n",
       "    'question': 'How do I Transfer Money via Quickteller'},\n",
       "   {'text': 'Click on the Pay Bills menu\\nSearch for the biller or go to the billers category and select the biller\\nInsert the customer ID\\nInsert Card Details, i.e. Card number, Expiry Date, CVV, PIN, Safetoken/OTP, or Verve eCash PIN if you are using eCash',\n",
       "    'question': 'How do I Pay Bills via Quickteller'},\n",
       "   {'text': 'Verve cards and Naira MasterCard are currently accepted for all transaction types. VISA cards are also supported for airtime and bill payments on the website.',\n",
       "    'question': 'What types of cards can I use to make payment on QuickTeller?'},\n",
       "   {'text': 'To add a card via the website;\\nClick on \"Card\" under Payment Methods from the Quickteller dashboard\\nClick on Add card\\nEnter your card details and complete the steps to add your card\\nTo add a card via the mobile app;\\nTap on \"My Wallet\" from the \"Sidebar Menu\"\\nTap on \"Add a New Card\"\\nEnter your card details and complete the steps to add your card\\nTo add a card while carrying out a transaction;\\nClick on the service you would like to pay for\\nEnter your new card details\\nClick on the \"Add card to Wallet\" button\\nComplete your payment. Your new card can be viewed in the cards module',\n",
       "    'question': 'How do I add my card on Quickteller'},\n",
       "   {'text': 'To delete a card via the mobile app;\\nTap on \"My Wallet\" from the \"Sidebar Menu\"\\nTap on an existing card\\nSelect \"Delete Card\" to successfully delete your card',\n",
       "    'question': 'How do I delete my card on Quickteller?'},\n",
       "   {'text': 'Buy airtime – All at face value. No additional charges.\\nPay bill – A N100 convenience fee is charged for each successful transaction\\nSend Money – Up-to N52.50 convenience fee is charged for each successful transaction,\\nReceive Money– At no cost to the recipient.\\nPrepaid Card Funding – All at face value. No additional charges.',\n",
       "    'question': 'Are there any fees for this service, monthly charges or annual fees?'},\n",
       "   {'text': 'The Interswitch payment gateway minimum amount is N50 and no maximum amount is defined by the payment gate. The maximum amount for recharge is N20,000 while bill payment and transfers is defined by your bank and can be adjusted by visiting you bank.',\n",
       "    'question': 'Are there minimum or maximum amounts that can be paid?'},\n",
       "   {'text': 'Contact [email\\xa0protected] with your payment reference.',\n",
       "    'question': 'I made a successful payment but I am yet to receive service as expected'},\n",
       "   {'text': 'Your bank should reverse the transaction within 24 hours. If the funds are yet to be reversed into your account or card you may contact [email\\xa0protected] or call +2347009065000',\n",
       "    'question': 'I made a payment that was not successful but I have been debited'},\n",
       "   {'text': 'We have made the dashboard easy for you to transact quickly. You can check the balance of your ecash in one view, view saved payments and the number of transactions per payment types. You can view the transaction history for the month.',\n",
       "    'question': 'How do I use the Dashboard?'},\n",
       "   {'text': 'One-Time Password, and is used to authenticate a card-not-present transaction (Verve card or MasterCard).',\n",
       "    'question': 'What is the meaning of Safetoken/OTP?'},\n",
       "   {'text': 'OTP can be delivered via the following channels: SMS and email. If you experience a delay in receiving your OTP, you can request for the OTP to be delivered via WhatsApp.',\n",
       "    'question': 'What channels are available for delivering OTP?'},\n",
       "   {'text': 'Add our official WhatsApp number 07009065000 to your contacts and initiate a chat to request for the OTP. 07009065000 is the only WhatsApp number we use for OTP requests, and we will never request for your personal information.\\nMake a request to receive the OTP on the chat using the mobile number linked to your account on the Platform.\\nFollow the prompts to receive the OTP.',\n",
       "    'question': 'How can I request for my OTP to be sent via WhatApp?'},\n",
       "   {'text': 'Yes, however for self-recharge transactions, SafeToken/OTP is not required.\\nNOTE: For GTB and Zenith Bank cardholders, use OTP device provided by the bank.',\n",
       "    'question': 'Must I always enter Safetoken/OTP?'},\n",
       "   {'text': 'Kindly follow the steps below to get your card registered for the OTP service.\\nVisit an ATM\\nInsert your card\\nSelect Quickteller\\nSelect \"Pay bills\"\\nChoose your account type\\nSelect “Others”\\nEnter 322222 as the payment code\\nEnter your phone number as “Customer Reference”\\nAccept the N1.00 amount displayed\\nFollow prompts to complete the activation',\n",
       "    'question': 'How do I register for a safetoken/OTP?'},\n",
       "   {'text': \"To request for a loan via the website\\nClick here\\nEnter requested loan amount, account number to receive the loan as well as bank name\\nProceed to select the preferred loan provider and accept the loan offer.\\nTo request for a loan using Short Code\\nDial *723#\\nSelect 'Get Loan'\\nFollow prompt to get your loan disbursed\\nHow do I request for a loan extension? (Migo Only)\\nTo request a loan extension, simply dial *561# from your registered number\\nSelect 'loans'\\nSelect 'extend Loan'\",\n",
       "    'question': 'How do I request for a Loan'},\n",
       "   {'text': \"How do I repay online\\nGo to www.quickteller.com/ils and select the lender you have a loan with\\nEnter your phone number you used to apply and enter your email.\\nConfirm amount to pay.\\nEnter card details and complete repayment\\nHow do I repay using the ATM\\nInsert your ATM card and select the 'Quickteller' option\\nSelect 'Pay Bills'\\nSelect 'Others'\\nEnter Biller/Payment Code e.g. 04309403(Migo) or 04309401(Ferratum) or 04309407(Xtracash) or 04309411(Quickloan (Payzfast)) or 04309408(Instantcash) or 04309406(Lendaba) or 053389801(QuickFund) or 0439773977(Lendme) or  053389601(Creditdirect) or  04396902(Moninow)\\nFor the Customer Reference Number, enter the phone number used to request the loan\\nConfirm payment\\nHow do I repay using Short code (USSD)\\nDial *723#\\nSelect 'Pay Bills'\\nSelect 'Others'\\nEnter your Loan Biller name Migo, Ferratum, Xtracash, Quickloan (Payzfast), Instantcash, Lendaba, Lendme, QuickFund, Creditdirect, Moninow.\\nFor the Customer Reference Number, enter the phone number used to request the loan\\nEnter amount\\nSelect a card and enter card details\\nConfirm payment\\nHow do I repay at the Bank\\nWalk into any of these banks listed: Fidelity, Access, UBA, Keystone, Sterling, GT bank, Wema, Unity or Polaris\\nInform the bank you want to pay your loan on PAYDIRECT and give them your loan phone number as customer reference number.\\nHow do I repay at a Quickteller paypoint agent kiosk or shop\\nWalk into a Quickteler Paypoint agent's location near you and request to repay your loan.\\nYou will be asked to provide your phone number and cash for repayment.\\nHow do I pay with my ewallet\\nLog into your Quickteller account.\\nSearch for the lender you have a loan with on the search bar.\\nEnter your phone number used to apply for the loan, click on continue.\\nOn the card page, select your ewallet card as a repayment option and proceed to make payment\\nHow to use pay with transfer method\\nClick on the unique lenders link (https://www.quickteller.com/lender/xxxxxxxx)\\nSelect Repay loan.\\nSelect the pay now button\\nSelect Repay Loan with Bank Transfer and an Account number will be specifically generated for the customer.\\nInitiate a transfer using the account number generated for you.\",\n",
       "    'question': 'How do I pay back my Loan'},\n",
       "   {'text': 'To request for a loan via the mobile app;\\nTap on \"Loan\" from either the \"Menu sidebar\" or \"Quick Services\"\\nTap on \"Request Loan\"\\nProceed to select the preferred loan provider and accept the loan offer.\\nSelect your preferred card or enter a new card where your loan will be credited to',\n",
       "    'question': 'How can I request for a loan on my Quickteller mobile app?'},\n",
       "   {'text': 'To repay your loan via the mobile app;\\nLogin to your Quickteller mobile ap\\nTap on the loan you want to pay back under \"Active\" Loan history\\nConfirm amount to pay.\\nEnter card details and complete repayment',\n",
       "    'question': 'How do I repay my loan using my mobile app?'},\n",
       "   {'text': 'Check the status of your transaction for your token by clicking on \"check status\" on your dashboard. Or you can contact us at [email\\xa0protected]',\n",
       "    'question': 'I paid my electricity bill but i am yet to receive my recharge pin/token'},\n",
       "   {'text': 'Recharge\\n*723*[Amount]#\\n*723*[MobileNumber]*[Amount]#\\nThis is a short code for a self-recharge transaction.\\nUse this code to recharge other people’s phone number.\\nBalance enquiry\\n*723*00#\\nYou can use this code to check your account balance. This includes eCash account balance and your other bank accounts. Please note, extra cost may apply and your card must have been added on Quickteller.\\nTransfer\\n*723*[AccountNumber]*[Amount]#\\nUse this code to transfer funds to a bank account.\\nGenerate OTP\\n*723*0#\\nUse this code to generate OTP to complete your transaction.\\nOpt out of OTP\\n*723*0000#\\nUse this code to opt out of using Quickteller USSD service.\\nBill Payment\\n*723*[PaymentCode]*[CustomerId]*[Amount]#\\n*723*[PaymentCode]*[Amount]#\\nUse this code to pay bills on Quickteller USSD service.\\nLoans\\n*723*6#\\nAccess Quickteller loans from USSD service.\\nPin Selection\\n*723*3#\\n*723*4#\\nUse this code to select a new PIN when you have not activated your eCash.\\nUse this code to change existing eCash PIN.\\nGenerate Paycode for Withdrawal\\n*723*8*Amount#\\nUse this code to generate a Paycode of an amount between N1,000 and N20,000 in multiples of N1,000 and cash out at any Paycode Accepting ATM.',\n",
       "    'question': 'What are the USSD codes if I want to do transactions by USSD?'},\n",
       "   {'text': '[email\\xa0protected]\\n07009065000\\n07009065000\\nFacebook- @quickteller\\nTwitter- @iswsupport',\n",
       "    'question': 'What are the How can I contact Quickteller or Interswitch Support t to do transactions by USSD?'}]}]"
      ]
     },
     "execution_count": 12,
     "metadata": {},
     "output_type": "execute_result"
    }
   ],
   "source": [
    "documents"
   ]
  },
  {
   "cell_type": "code",
   "execution_count": 13,
   "id": "06b8d8be-f656-4cc3-893f-b159be8fda21",
   "metadata": {},
   "outputs": [],
   "source": [
    "import json"
   ]
  },
  {
   "cell_type": "code",
   "execution_count": 14,
   "id": "30d50bc1-8d26-44ee-8734-cafce05e0523",
   "metadata": {},
   "outputs": [],
   "source": [
    "with open('isw_faq_document.json', 'wt') as f_out:\n",
    "    json.dump(documents, f_out, indent=2)"
   ]
  },
  {
   "cell_type": "code",
   "execution_count": 17,
   "id": "0eabb1c6-5cc6-4d4d-a6da-e27d41cea546",
   "metadata": {},
   "outputs": [
    {
     "name": "stdout",
     "output_type": "stream",
     "text": [
      "[\n",
      "  {\n",
      "    \"course\": \"isw_faq_cleaned\",\n",
      "    \"documents\": [\n",
      "      {\n",
      "        \"text\": \"FAQTalk To Us\\nClick on the Buy Airtime Menu\\nSelect \\u201cTOP-UP YOUR PHONE\\u201d for Self Recharge or \\u201cTOP-UP OTHER PHONES\\u201d for Third Party Recharge and complete the fields by selecting the desired airtime amount and network.\\nInsert Card Details, i.e. Card number, Expiry Date, CVV, PIN, Safetoken/OTP, or Verve eCash PIN if you are using eCash\",\n",
      "        \"question\": \"How do I buy Airtime via Quickteller\"\n",
      "      },\n",
      "      {\n",
      "        \"text\": \"Click on the Transfer Money menu\\nComplete the fields by inserting the account number, desired bank name and amount\\nInsert Card Details, i.e. PAN, Expiry Date, CVV, PIN, Safetoken/OTP or Verve eCash PIN if you are transferring from your eCash account.\",\n"
     ]
    }
   ],
   "source": [
    "!head isw_faq_document.json"
   ]
  }
 ],
 "metadata": {
  "kernelspec": {
   "display_name": "Python 3 (ipykernel)",
   "language": "python",
   "name": "python3"
  },
  "language_info": {
   "codemirror_mode": {
    "name": "ipython",
    "version": 3
   },
   "file_extension": ".py",
   "mimetype": "text/x-python",
   "name": "python",
   "nbconvert_exporter": "python",
   "pygments_lexer": "ipython3",
   "version": "3.12.1"
  }
 },
 "nbformat": 4,
 "nbformat_minor": 5
}
